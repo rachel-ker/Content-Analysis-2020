{
 "cells": [
  {
   "cell_type": "code",
   "execution_count": 39,
   "metadata": {},
   "outputs": [],
   "source": [
    "import requests\n",
    "import bs4\n",
    "import re"
   ]
  },
  {
   "cell_type": "markdown",
   "metadata": {},
   "source": [
    "# Extracting from campaign info from gofundme"
   ]
  },
  {
   "cell_type": "code",
   "execution_count": 77,
   "metadata": {},
   "outputs": [],
   "source": [
    "def get_gofundme_urls(category):\n",
    "    '''\n",
    "    This function gets you the urls of the top 12 campaigns on the page for each category\n",
    "    '''\n",
    "    try:\n",
    "        site=requests.get(\"https://www.gofundme.com/discover/{}-fundraiser\".format(category))\n",
    "    \n",
    "    except(e):\n",
    "        return e\n",
    "    \n",
    "    site_soup = bs4.BeautifulSoup(site.text, 'html.parser')\n",
    "    campaign_tags = site_soup.select(\".react-campaign-tile\")\n",
    "    urls = []\n",
    "\n",
    "    for tags in campaign_tags:\n",
    "        link = tags.find('a', href=re.compile('gofundme.com'), class_=False).get('href')\n",
    "        urls.append(link)\n",
    "    \n",
    "    return urls"
   ]
  },
  {
   "cell_type": "code",
   "execution_count": 78,
   "metadata": {},
   "outputs": [
    {
     "name": "stdout",
     "output_type": "stream",
     "text": [
      "medical ['https://www.gofundme.com/eric-stevens-care-trust', 'https://www.gofundme.com/hope-for-pedro', 'https://www.gofundme.com/zaidsbsk', 'https://www.gofundme.com/lifeforrobert', 'https://www.gofundme.com/support-the-vanvickle-family', 'https://www.gofundme.com/eva-love-sherbondy', 'https://www.gofundme.com/microbiota-transplant-for-children-with-asd', 'https://www.gofundme.com/1tsvg06e00', 'https://www.gofundme.com/arik-matson-family', 'https://www.gofundme.com/lizzy-ragan-medical-recovery-fund', 'https://www.gofundme.com/help-6-year-old-guy-sizikov-fight-cancer', 'https://www.gofundme.com/hunter-barr']\n",
      "\n"
     ]
    }
   ],
   "source": [
    "categories = ['medical', 'memorial', 'emergency',\n",
    "              'charity', 'education', 'animal',\n",
    "              'business', 'community', 'competition',\n",
    "              'creative', 'event', 'faith', 'family',\n",
    "              'newlywed', 'sports', 'travel', 'volunteer',\n",
    "              'wishes']\n",
    "\n",
    "for cat in categories[:1]:\n",
    "    print(cat, get_gofundme_urls(cat))\n",
    "    print()"
   ]
  },
  {
   "cell_type": "code",
   "execution_count": 79,
   "metadata": {},
   "outputs": [],
   "source": [
    "medical = get_gofundme_urls('medical')"
   ]
  },
  {
   "cell_type": "code",
   "execution_count": 80,
   "metadata": {},
   "outputs": [
    {
     "data": {
      "text/plain": [
       "['https://www.gofundme.com/eric-stevens-care-trust',\n",
       " 'https://www.gofundme.com/hope-for-pedro',\n",
       " 'https://www.gofundme.com/zaidsbsk',\n",
       " 'https://www.gofundme.com/lifeforrobert',\n",
       " 'https://www.gofundme.com/support-the-vanvickle-family',\n",
       " 'https://www.gofundme.com/eva-love-sherbondy',\n",
       " 'https://www.gofundme.com/microbiota-transplant-for-children-with-asd',\n",
       " 'https://www.gofundme.com/1tsvg06e00',\n",
       " 'https://www.gofundme.com/arik-matson-family',\n",
       " 'https://www.gofundme.com/lizzy-ragan-medical-recovery-fund',\n",
       " 'https://www.gofundme.com/help-6-year-old-guy-sizikov-fight-cancer',\n",
       " 'https://www.gofundme.com/hunter-barr']"
      ]
     },
     "execution_count": 80,
     "metadata": {},
     "output_type": "execute_result"
    }
   ],
   "source": [
    "medical"
   ]
  },
  {
   "cell_type": "code",
   "execution_count": 179,
   "metadata": {},
   "outputs": [],
   "source": [
    "def get_text(websites):\n",
    "    texts = []\n",
    "    for url in websites:\n",
    "        site=requests.get(url)\n",
    "        site_soup = bs4.BeautifulSoup(site.text, 'html.parser')\n",
    "\n",
    "        try:\n",
    "            desc_tag = site_soup.find_all(\"div\", attrs={\"class\":\"o-campaign-story\"})\n",
    "        except(e):\n",
    "            return e\n",
    "\n",
    "        desc_text = re.sub('<[//]*\\w+[//]*>|\\xa0|\\<a.+href.+\\>|\\[|\\]|\\<img alt.+\"\\/\\>|\\\\n|\\<span.+\\>|<div class=\"o-campaign-story\">', ' ', str(desc_tag))\n",
    "        texts.append(desc_text)\n",
    "        \n",
    "    return texts"
   ]
  },
  {
   "cell_type": "code",
   "execution_count": 182,
   "metadata": {},
   "outputs": [],
   "source": [
    "medical_text = get_text(medical)"
   ]
  },
  {
   "cell_type": "code",
   "execution_count": 187,
   "metadata": {},
   "outputs": [],
   "source": [
    "import pandas as pd\n",
    "df = pd.DataFrame({'text': medical_text})"
   ]
  },
  {
   "cell_type": "code",
   "execution_count": 213,
   "metadata": {},
   "outputs": [],
   "source": [
    "df.to_csv('input.csv')"
   ]
  },
  {
   "cell_type": "code",
   "execution_count": 212,
   "metadata": {},
   "outputs": [
    {
     "data": {
      "text/plain": [
       "\"    Hunter Barr is a playful, sweet and loving four-year-old. Inseparable from his little brother and best friend Griffin, the two are always together playing and watching sports. From cheering on the Bruins in the winter to keeping up on the golf course with his dad, GP (grandpa) and Uncle Cameron in the summer, he never tires or loses that big enthusiastic smile off his face.   Hunter has been diagnosed with DIPG, an extremely rare pediatric brain tumor. It is a highly aggressive and difficult to treat tumor, located in the area of the brainstem called the pons, which control the body's vital functions like breathing, blood pressure &amp; heart rate.   Hunter has been moved to Boston Children's Hospital where his family is being consulted and seen by the best doctors in the country as they explore clinical trial options.  Please help us support Hunter and the Barr/Hart family as they work through the best path forward for this amazing boy.     All of your generous donations will be put towards Hunter’s treatment.    \""
      ]
     },
     "execution_count": 212,
     "metadata": {},
     "output_type": "execute_result"
    }
   ],
   "source": [
    "medical_text[11]"
   ]
  },
  {
   "cell_type": "code",
   "execution_count": null,
   "metadata": {},
   "outputs": [],
   "source": []
  }
 ],
 "metadata": {
  "kernelspec": {
   "display_name": "Python 3",
   "language": "python",
   "name": "python3"
  },
  "language_info": {
   "codemirror_mode": {
    "name": "ipython",
    "version": 3
   },
   "file_extension": ".py",
   "mimetype": "text/x-python",
   "name": "python",
   "nbconvert_exporter": "python",
   "pygments_lexer": "ipython3",
   "version": "3.7.3"
  }
 },
 "nbformat": 4,
 "nbformat_minor": 2
}
